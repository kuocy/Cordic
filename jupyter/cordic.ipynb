{
 "cells": [
  {
   "cell_type": "markdown",
   "metadata": {},
   "source": [
    "# Hardware Cordic\n",
    "## python代码来源于PYNQ开源社区：https://mp.weixin.qq.com/s/7tl7EMD08Ag6iF4OzVDpGw"
   ]
  },
  {
   "cell_type": "code",
   "execution_count": 3,
   "metadata": {},
   "outputs": [],
   "source": [
    "from pynq import Overlay\n",
    "\n",
    "overlay = Overlay(\"./cordic.bit\")\n",
    "\n",
    "cordic = overlay.cordiccart2pol_0"
   ]
  },
  {
   "cell_type": "code",
   "execution_count": 4,
   "metadata": {},
   "outputs": [
    {
     "name": "stdout",
     "output_type": "stream",
     "text": [
      "Radius RMSE: 4.242640687119285e-08 Theta RMSE 6.5407377259755645e-06\n",
      "PASS\n",
      "Radius RMSE: 4.163331998932265e-08 Theta RMSE 1.0475918416380812e-05\n",
      "PASS\n",
      "Radius RMSE: 6.576473218982952e-08 Theta RMSE 1.7461816915773686e-05\n",
      "PASS\n",
      "Radius RMSE: 5.8991524815010506e-08 Theta RMSE 1.5864886384717665e-05\n",
      "PASS\n",
      "Radius RMSE: 6.519202405202648e-08 Theta RMSE 1.8585092592361942e-05\n",
      "PASS\n",
      "Radius RMSE: 6.750661343263234e-08 Theta RMSE 1.7281976160150206e-05\n",
      "PASS\n",
      "Radius RMSE: 7.607562027351469e-08 Theta RMSE 1.6175457103278412e-05\n",
      "PASS\n",
      "Radius RMSE: 7.446102634562892e-08 Theta RMSE 1.54788953094205e-05\n",
      "PASS\n",
      "Radius RMSE: 7.314369419163897e-08 Theta RMSE 1.5098999635737463e-05\n",
      "PASS\n"
     ]
    }
   ],
   "source": [
    "import random\n",
    "import cmath\n",
    "import struct\n",
    "import binascii\n",
    "import numpy as np\n",
    "\n",
    "#创建等差数组：[0, 0.1, 0.2, ... , 9.9, 10]\n",
    "r_error=np.arange(0,10,0.1)\n",
    "theta_error = np.arange(0,10,0.1)\n",
    "\n",
    "#随机生成10组坐标\n",
    "for i in range(1,10):\n",
    "#(1) 随机生成-1到1之间的浮点数\n",
    "    x = random.uniform(-1,1)\n",
    "    y = random.uniform(-1,1)\n",
    "#(2) 计算golden output\n",
    "    cn = complex(x,y)  #复数类型书写\n",
    "    cn = cmath.polar(cn) #转换成极坐标\n",
    "#(3) 将输入转换成byte发送给FPGA\n",
    "    x = (struct.unpack('<I',struct.pack('<f',x))[0])\n",
    "    y = (struct.unpack('<I',struct.pack('<f',y))[0])\n",
    "#(4) 向FPGA中写数值, 地址映射可在HLS中查看\n",
    "    cordic.write(0x10,x)\n",
    "    cordic.write(0x18,y)\n",
    "#(5) 启动\n",
    "    cordic.write(0x00,1)\n",
    "    cordic.write(0x00,0)\n",
    "    r = hex(cordic.read(0x20))\n",
    "    r = r[2:]\n",
    "    theta = hex(cordic.read(0x30))\n",
    "    theta = theta[2:]\n",
    "#(6) 转换成float类型\n",
    "    if r != 0:\n",
    "        r=struct.unpack('>f',binascii.unhexlify(r))\n",
    "        r = r[0]\n",
    "    if theta != 0:\n",
    "        theta = struct.unpack('>f',binascii.unhexlify(theta))\n",
    "        theta =theta[0]\n",
    "#(7) 和golden输出进行比较\n",
    "    r_error[i] = \"{0:.8f}\".format(abs(r-cn[0]))\n",
    "    theta_error[i] = \"{0:.8f}\".format(abs(theta-cn[1]))\n",
    "\n",
    "sum_sq_r=0\n",
    "sum_sq_theta=0\n",
    "for i in range(1,10):\n",
    "    sum_sq_r = sum_sq_r +(r_error[i] * r_error[i])\n",
    "    r_rnse=np.sqrt(sum_sq_r/(i+1))\n",
    "    sum_sq_theta = sum_sq_theta + (theta_error[i] * theta_error[i])\n",
    "    theta_rnse = np.sqrt(sum_sq_theta/(i+1))\n",
    "    print(\"Radius RMSE:\", r_rnse, \"Theta RMSE\", theta_rnse)\n",
    "    if r_rnse<0.001 and theta_rnse < 0.001:\n",
    "        print(\"PASS\")\n",
    "    else:\n",
    "        print(\"FAIL\")"
   ]
  }
 ],
 "metadata": {
  "kernelspec": {
   "display_name": "Python 3",
   "language": "python",
   "name": "python3"
  },
  "language_info": {
   "codemirror_mode": {
    "name": "ipython",
    "version": 3
   },
   "file_extension": ".py",
   "mimetype": "text/x-python",
   "name": "python",
   "nbconvert_exporter": "python",
   "pygments_lexer": "ipython3",
   "version": "3.8.2"
  },
  "vscode": {
   "interpreter": {
    "hash": "fbe58ca63fe33f9eeae9e71d10368d2b4a57f2b1b395836210cc60d362c66949"
   }
  }
 },
 "nbformat": 4,
 "nbformat_minor": 4
}
